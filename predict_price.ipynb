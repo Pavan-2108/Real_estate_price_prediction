{
 "cells": [
  {
   "cell_type": "code",
   "execution_count": 2,
   "metadata": {},
   "outputs": [],
   "source": [
    "\n",
    "from sklearn.linear_model import LinearRegression\n",
    "from sklearn.neighbors import KNeighborsRegressor\n",
    "from sklearn.tree import DecisionTreeRegressor\n",
    "\n",
    "from sklearn.linear_model import Ridge, BayesianRidge\n",
    "from sklearn.ensemble import RandomForestRegressor\n",
    "\n",
    "from sklearn import preprocessing\n",
    "from sklearn.model_selection import train_test_split\n",
    "import pickle\n",
    "from sklearn.metrics import mean_squared_error\n",
    "import pandas as pd\n",
    "import numpy as np"
   ]
  },
  {
   "cell_type": "code",
   "execution_count": 3,
   "metadata": {},
   "outputs": [
    {
     "data": {
      "text/html": [
       "<div>\n",
       "<style scoped>\n",
       "    .dataframe tbody tr th:only-of-type {\n",
       "        vertical-align: middle;\n",
       "    }\n",
       "\n",
       "    .dataframe tbody tr th {\n",
       "        vertical-align: top;\n",
       "    }\n",
       "\n",
       "    .dataframe thead th {\n",
       "        text-align: right;\n",
       "    }\n",
       "</style>\n",
       "<table border=\"1\" class=\"dataframe\">\n",
       "  <thead>\n",
       "    <tr style=\"text-align: right;\">\n",
       "      <th></th>\n",
       "      <th>City</th>\n",
       "      <th>Locality</th>\n",
       "      <th>Area</th>\n",
       "      <th>Type</th>\n",
       "      <th>BHK</th>\n",
       "      <th>Furnished</th>\n",
       "      <th>Distance_from_Metro</th>\n",
       "      <th>Price</th>\n",
       "    </tr>\n",
       "  </thead>\n",
       "  <tbody>\n",
       "    <tr>\n",
       "      <th>0</th>\n",
       "      <td>hyderabad</td>\n",
       "      <td>dilsukhnagar</td>\n",
       "      <td>1200</td>\n",
       "      <td>0</td>\n",
       "      <td>2</td>\n",
       "      <td>2</td>\n",
       "      <td>2.0</td>\n",
       "      <td>45</td>\n",
       "    </tr>\n",
       "    <tr>\n",
       "      <th>1</th>\n",
       "      <td>hyderabad</td>\n",
       "      <td>dilsukhnagar</td>\n",
       "      <td>592</td>\n",
       "      <td>0</td>\n",
       "      <td>2</td>\n",
       "      <td>2</td>\n",
       "      <td>0.1</td>\n",
       "      <td>27</td>\n",
       "    </tr>\n",
       "    <tr>\n",
       "      <th>2</th>\n",
       "      <td>hyderabad</td>\n",
       "      <td>dilsukhnagar</td>\n",
       "      <td>1500</td>\n",
       "      <td>0</td>\n",
       "      <td>3</td>\n",
       "      <td>0</td>\n",
       "      <td>2.0</td>\n",
       "      <td>93</td>\n",
       "    </tr>\n",
       "    <tr>\n",
       "      <th>3</th>\n",
       "      <td>hyderabad</td>\n",
       "      <td>dilsukhnagar</td>\n",
       "      <td>1200</td>\n",
       "      <td>0</td>\n",
       "      <td>3</td>\n",
       "      <td>2</td>\n",
       "      <td>0.1</td>\n",
       "      <td>60</td>\n",
       "    </tr>\n",
       "    <tr>\n",
       "      <th>4</th>\n",
       "      <td>hyderabad</td>\n",
       "      <td>dilsukhnagar</td>\n",
       "      <td>1440</td>\n",
       "      <td>0</td>\n",
       "      <td>3</td>\n",
       "      <td>0</td>\n",
       "      <td>0.1</td>\n",
       "      <td>85</td>\n",
       "    </tr>\n",
       "  </tbody>\n",
       "</table>\n",
       "</div>"
      ],
      "text/plain": [
       "        City      Locality  Area  Type  BHK  Furnished  Distance_from_Metro  \\\n",
       "0  hyderabad  dilsukhnagar  1200     0    2          2                  2.0   \n",
       "1  hyderabad  dilsukhnagar   592     0    2          2                  0.1   \n",
       "2  hyderabad  dilsukhnagar  1500     0    3          0                  2.0   \n",
       "3  hyderabad  dilsukhnagar  1200     0    3          2                  0.1   \n",
       "4  hyderabad  dilsukhnagar  1440     0    3          0                  0.1   \n",
       "\n",
       "   Price  \n",
       "0     45  \n",
       "1     27  \n",
       "2     93  \n",
       "3     60  \n",
       "4     85  "
      ]
     },
     "execution_count": 3,
     "metadata": {},
     "output_type": "execute_result"
    }
   ],
   "source": [
    "data = pd.read_csv(\"dataset.csv\")\n",
    "data.head()"
   ]
  },
  {
   "cell_type": "code",
   "execution_count": 4,
   "metadata": {},
   "outputs": [
    {
     "name": "stdout",
     "output_type": "stream",
     "text": [
      "hyderabad : 0\n",
      "banglore : 1\n"
     ]
    },
    {
     "data": {
      "text/html": [
       "<div>\n",
       "<style scoped>\n",
       "    .dataframe tbody tr th:only-of-type {\n",
       "        vertical-align: middle;\n",
       "    }\n",
       "\n",
       "    .dataframe tbody tr th {\n",
       "        vertical-align: top;\n",
       "    }\n",
       "\n",
       "    .dataframe thead th {\n",
       "        text-align: right;\n",
       "    }\n",
       "</style>\n",
       "<table border=\"1\" class=\"dataframe\">\n",
       "  <thead>\n",
       "    <tr style=\"text-align: right;\">\n",
       "      <th></th>\n",
       "      <th>City</th>\n",
       "      <th>Locality</th>\n",
       "      <th>Area</th>\n",
       "      <th>Type</th>\n",
       "      <th>BHK</th>\n",
       "      <th>Furnished</th>\n",
       "      <th>Distance_from_Metro</th>\n",
       "      <th>Price</th>\n",
       "    </tr>\n",
       "  </thead>\n",
       "  <tbody>\n",
       "    <tr>\n",
       "      <th>0</th>\n",
       "      <td>0</td>\n",
       "      <td>dilsukhnagar</td>\n",
       "      <td>1200</td>\n",
       "      <td>0</td>\n",
       "      <td>2</td>\n",
       "      <td>2</td>\n",
       "      <td>2.0</td>\n",
       "      <td>45</td>\n",
       "    </tr>\n",
       "    <tr>\n",
       "      <th>1</th>\n",
       "      <td>0</td>\n",
       "      <td>dilsukhnagar</td>\n",
       "      <td>592</td>\n",
       "      <td>0</td>\n",
       "      <td>2</td>\n",
       "      <td>2</td>\n",
       "      <td>0.1</td>\n",
       "      <td>27</td>\n",
       "    </tr>\n",
       "    <tr>\n",
       "      <th>2</th>\n",
       "      <td>0</td>\n",
       "      <td>dilsukhnagar</td>\n",
       "      <td>1500</td>\n",
       "      <td>0</td>\n",
       "      <td>3</td>\n",
       "      <td>0</td>\n",
       "      <td>2.0</td>\n",
       "      <td>93</td>\n",
       "    </tr>\n",
       "    <tr>\n",
       "      <th>3</th>\n",
       "      <td>0</td>\n",
       "      <td>dilsukhnagar</td>\n",
       "      <td>1200</td>\n",
       "      <td>0</td>\n",
       "      <td>3</td>\n",
       "      <td>2</td>\n",
       "      <td>0.1</td>\n",
       "      <td>60</td>\n",
       "    </tr>\n",
       "    <tr>\n",
       "      <th>4</th>\n",
       "      <td>0</td>\n",
       "      <td>dilsukhnagar</td>\n",
       "      <td>1440</td>\n",
       "      <td>0</td>\n",
       "      <td>3</td>\n",
       "      <td>0</td>\n",
       "      <td>0.1</td>\n",
       "      <td>85</td>\n",
       "    </tr>\n",
       "  </tbody>\n",
       "</table>\n",
       "</div>"
      ],
      "text/plain": [
       "  City      Locality  Area  Type  BHK  Furnished  Distance_from_Metro  Price\n",
       "0    0  dilsukhnagar  1200     0    2          2                  2.0     45\n",
       "1    0  dilsukhnagar   592     0    2          2                  0.1     27\n",
       "2    0  dilsukhnagar  1500     0    3          0                  2.0     93\n",
       "3    0  dilsukhnagar  1200     0    3          2                  0.1     60\n",
       "4    0  dilsukhnagar  1440     0    3          0                  0.1     85"
      ]
     },
     "execution_count": 4,
     "metadata": {},
     "output_type": "execute_result"
    }
   ],
   "source": [
    "#City Code for Hyderabad as 0\n",
    "df  = data.copy()\n",
    "all_cities = df['City'].unique()\n",
    "\n",
    "count = 0\n",
    "for city in all_cities:\n",
    "    print(city, \":\", count)\n",
    "    df.loc[df['City'] == city, 'City'] = count\n",
    "    count += 1\n",
    "\n",
    "df.head()"
   ]
  },
  {
   "cell_type": "code",
   "execution_count": 5,
   "metadata": {},
   "outputs": [
    {
     "name": "stdout",
     "output_type": "stream",
     "text": [
      "dilsukhnagar : 0\n",
      "kukatpally : 1\n",
      "indira nagar : 2\n",
      "jayanagar : 3\n"
     ]
    },
    {
     "data": {
      "text/html": [
       "<div>\n",
       "<style scoped>\n",
       "    .dataframe tbody tr th:only-of-type {\n",
       "        vertical-align: middle;\n",
       "    }\n",
       "\n",
       "    .dataframe tbody tr th {\n",
       "        vertical-align: top;\n",
       "    }\n",
       "\n",
       "    .dataframe thead th {\n",
       "        text-align: right;\n",
       "    }\n",
       "</style>\n",
       "<table border=\"1\" class=\"dataframe\">\n",
       "  <thead>\n",
       "    <tr style=\"text-align: right;\">\n",
       "      <th></th>\n",
       "      <th>City</th>\n",
       "      <th>Locality</th>\n",
       "      <th>Area</th>\n",
       "      <th>Type</th>\n",
       "      <th>BHK</th>\n",
       "      <th>Furnished</th>\n",
       "      <th>Distance_from_Metro</th>\n",
       "      <th>Price</th>\n",
       "    </tr>\n",
       "  </thead>\n",
       "  <tbody>\n",
       "    <tr>\n",
       "      <th>0</th>\n",
       "      <td>0</td>\n",
       "      <td>0</td>\n",
       "      <td>1200</td>\n",
       "      <td>0</td>\n",
       "      <td>2</td>\n",
       "      <td>2</td>\n",
       "      <td>2.0</td>\n",
       "      <td>45</td>\n",
       "    </tr>\n",
       "    <tr>\n",
       "      <th>1</th>\n",
       "      <td>0</td>\n",
       "      <td>0</td>\n",
       "      <td>592</td>\n",
       "      <td>0</td>\n",
       "      <td>2</td>\n",
       "      <td>2</td>\n",
       "      <td>0.1</td>\n",
       "      <td>27</td>\n",
       "    </tr>\n",
       "    <tr>\n",
       "      <th>2</th>\n",
       "      <td>0</td>\n",
       "      <td>0</td>\n",
       "      <td>1500</td>\n",
       "      <td>0</td>\n",
       "      <td>3</td>\n",
       "      <td>0</td>\n",
       "      <td>2.0</td>\n",
       "      <td>93</td>\n",
       "    </tr>\n",
       "    <tr>\n",
       "      <th>3</th>\n",
       "      <td>0</td>\n",
       "      <td>0</td>\n",
       "      <td>1200</td>\n",
       "      <td>0</td>\n",
       "      <td>3</td>\n",
       "      <td>2</td>\n",
       "      <td>0.1</td>\n",
       "      <td>60</td>\n",
       "    </tr>\n",
       "    <tr>\n",
       "      <th>4</th>\n",
       "      <td>0</td>\n",
       "      <td>0</td>\n",
       "      <td>1440</td>\n",
       "      <td>0</td>\n",
       "      <td>3</td>\n",
       "      <td>0</td>\n",
       "      <td>0.1</td>\n",
       "      <td>85</td>\n",
       "    </tr>\n",
       "  </tbody>\n",
       "</table>\n",
       "</div>"
      ],
      "text/plain": [
       "  City Locality  Area  Type  BHK  Furnished  Distance_from_Metro  Price\n",
       "0    0        0  1200     0    2          2                  2.0     45\n",
       "1    0        0   592     0    2          2                  0.1     27\n",
       "2    0        0  1500     0    3          0                  2.0     93\n",
       "3    0        0  1200     0    3          2                  0.1     60\n",
       "4    0        0  1440     0    3          0                  0.1     85"
      ]
     },
     "execution_count": 5,
     "metadata": {},
     "output_type": "execute_result"
    }
   ],
   "source": [
    "\n",
    "all_locations = df['Locality'].unique()\n",
    "\n",
    "count = 0\n",
    "for locality in all_locations:\n",
    "    print(locality, \":\", count)\n",
    "    df.loc[df['Locality'] == locality, 'Locality'] = count\n",
    "    count += 1\n",
    "\n",
    "df.head()"
   ]
  },
  {
   "cell_type": "code",
   "execution_count": 6,
   "metadata": {},
   "outputs": [
    {
     "name": "stdout",
     "output_type": "stream",
     "text": [
      "   City Locality  Area  Type  BHK  Furnished  Distance_from_Metro  Price\n",
      "0     0        0  1200     0    2          2                  2.0     45\n",
      "1     0        0   592     0    2          2                  0.1     27\n",
      "2     0        0  1500     0    3          0                  2.0     93\n",
      "3     0        0  1200     0    3          2                  0.1     60\n",
      "4     0        0  1440     0    3          0                  0.1     85\n",
      "5     0        0  1300     0    3          1                  0.7     66\n",
      "6     0        0   750     0    1          2                  0.1     30\n",
      "7     0        0  1000     0    2          0                  0.5     60\n",
      "8     0        0   700     0    2          0                  2.5     22\n",
      "9     0        0  2500     1    3          1                  0.2    165\n",
      "10    0        0  5000     1    7          1                  0.0    360\n",
      "11    0        0   800     1    2          1                  0.2     95\n",
      "12    0        0  2000     1    3          0                  1.5     87\n",
      "13    0        0  1773     1    3          0                  3.0    216\n",
      "14    0        1  1100     0    2          0                  1.5     70\n",
      "15    0        1  1075     0    2          0                  1.0     65\n",
      "16    0        1  1570     0    3          0                  1.0     81\n",
      "17    0        1  1015     0    2          1                  0.1     42\n",
      "18    0        1  1000     0    2          1                  1.0     45\n",
      "19    0        1  1155     0    2          0                  0.1     80\n",
      "20    0        1  1200     0    2          1                  0.5     60\n",
      "21    0        1  1660     0    3          2                  1.0     88\n",
      "22    0        1  1179     0    3          2                  1.0     92\n",
      "23    0        1  1535     0    3          2                  2.0     95\n",
      "24    0        1  2100     1    3          1                  1.2     98\n",
      "25    0        1  2300     1    3          0                  1.2    140\n",
      "26    0        1  2950     1    4          1                  0.1    650\n",
      "27    0        1  2940     1    4          1                  0.1    625\n",
      "28    0        1  2000     1    4          1                  0.5    325\n",
      "29    1        2  1300     0    3          2                  0.2    140\n",
      "30    1        2  5400     1    6          1                  1.0    216\n",
      "31    1        2  2500     1    4          1                  0.5    660\n",
      "32    1        2  1170     0    2          2                  0.1     95\n",
      "33    1        2  2159     0    3          1                  0.2    200\n",
      "34    1        2  1800     0    4          1                  0.2    375\n",
      "35    1        2  2785     0    4          2                  0.1    410\n",
      "36    1        2  1250     0    3          0                  0.0     61\n",
      "37    1        2  1630     0    3          0                  0.8    228\n",
      "38    1        2  1780     0    3          1                  0.8    140\n",
      "39    1        2  1100     0    2          1                  1.0    120\n",
      "40    1        2  3000     0    4          1                  0.8    650\n",
      "41    1        2  2400     1    4          2                  0.5    300\n",
      "42    1        2  1550     0    3          1                  1.0    130\n",
      "43    1        2  4850     1    4          0                  0.2   1000\n",
      "44    1        3  1025     0    2          1                  0.4    135\n",
      "45    1        3  1906     0    3          1                  0.6    200\n",
      "46    1        3  5000     0    4          0                  1.2    945\n",
      "47    1        3  1950     0    3          0                  0.8    195\n",
      "48    1        3  2100     0    3          0                  0.8    275\n",
      "49    1        3  1956     0    3          1                  1.0    235\n",
      "50    1        3  1655     0    3          0                  1.0    149\n",
      "51    1        3  3000     0    4          1                  0.2    330\n",
      "52    1        3  3000     1    3          1                  1.0    545\n",
      "53    1        3  1000     0    2          0                  0.5     41\n",
      "54    1        3  1222     0    2          1                  0.1     87\n",
      "55    1        3  1684     0    3          1                  1.0    210\n",
      "56    1        3  1539     0    3          0                  1.0    150\n",
      "57    1        3  3150     0    3          0                  0.1    419\n",
      "58    1        3  2162     0    3          0                  0.4    308\n"
     ]
    }
   ],
   "source": [
    "print(df)"
   ]
  },
  {
   "cell_type": "code",
   "execution_count": 7,
   "metadata": {},
   "outputs": [],
   "source": [
    "\n",
    "label_data = pd.DataFrame(df['Price'].copy())\n",
    "\n",
    "\n",
    "train_data = df.drop(columns=['Price'])\n"
   ]
  },
  {
   "cell_type": "code",
   "execution_count": 8,
   "metadata": {},
   "outputs": [],
   "source": [
    "X_train, X_test, y_train, y_test = train_test_split(train_data, label_data, test_size=0.1, random_state=42)"
   ]
  },
  {
   "cell_type": "code",
   "execution_count": 9,
   "metadata": {},
   "outputs": [
    {
     "name": "stdout",
     "output_type": "stream",
     "text": [
      "Training Model Random Forest Regressor\n"
     ]
    },
    {
     "name": "stderr",
     "output_type": "stream",
     "text": [
      "C:\\Users\\Pavan\\AppData\\Local\\Temp\\ipykernel_10516\\2551520721.py:7: DataConversionWarning: A column-vector y was passed when a 1d array was expected. Please change the shape of y to (n_samples,), for example using ravel().\n",
      "  model.fit(X_train, y_train)\n"
     ]
    },
    {
     "name": "stdout",
     "output_type": "stream",
     "text": [
      "Model Training Done\n",
      "Y Test:     Price\n",
      "0      45\n",
      "5      66\n",
      "34    375\n",
      "13    216\n",
      "45    200\n",
      "53     41\n",
      "Y Pred: [ 72.19  78.33 267.13  96.19 216.22 116.  ]\n",
      "BRR MSE: [5461.63106667]\n"
     ]
    }
   ],
   "source": [
    "print(\"Training Model R Regressor\")\n",
    "# define model\n",
    "\n",
    "model = RandomForestRegressor()\n",
    "\n",
    "# fit model\n",
    "model.fit(X_train, y_train)\n",
    "\n",
    "print(\"Model Training Done\")\n",
    "# make a prediction\n",
    "y_pred = model.predict(X_test)\n",
    "\n",
    "print(\"Y Test:\", y_test)\n",
    "print(\"Y Pred:\",y_pred)\n",
    "\n",
    "mse = mean_squared_error(y_test, y_pred, multioutput='raw_values')\n",
    "print(\"BRR MSE:\", mse)\n"
   ]
  },
  {
   "cell_type": "code",
   "execution_count": 10,
   "metadata": {},
   "outputs": [
    {
     "name": "stdout",
     "output_type": "stream",
     "text": [
      "Training Model Random Forest Regressor\n"
     ]
    },
    {
     "name": "stderr",
     "output_type": "stream",
     "text": [
      "C:\\Users\\Pavan\\AppData\\Local\\Programs\\Python\\Python39\\lib\\site-packages\\sklearn\\utils\\validation.py:993: DataConversionWarning: A column-vector y was passed when a 1d array was expected. Please change the shape of y to (n_samples, ), for example using ravel().\n",
      "  y = column_or_1d(y, warn=True)\n"
     ]
    },
    {
     "name": "stdout",
     "output_type": "stream",
     "text": [
      "Model Training Done\n",
      "Y Test:     Price\n",
      "0      45\n",
      "5      66\n",
      "34    375\n",
      "13    216\n",
      "45    200\n",
      "53     41\n",
      "Y Pred: [106.40668542 121.86182993 199.14261195 194.96343591 215.52836916\n",
      "  75.50587989]\n",
      "BRR MSE: [6615.24483584] 6615.24483584206\n"
     ]
    }
   ],
   "source": [
    "print(\"Training Model Random Forest Regressor\")\n",
    "# define model\n",
    "\n",
    "model = BayesianRidge()\n",
    "\n",
    "# fit model\n",
    "model.fit(X_train, y_train)\n",
    "\n",
    "print(\"Model Training Done\")\n",
    "# make a prediction\n",
    "y_pred = model.predict(X_test)\n",
    "\n",
    "print(\"Y Test:\", y_test)\n",
    "print(\"Y Pred:\",y_pred)\n",
    "\n",
    "mse = mean_squared_error(y_test, y_pred, multioutput='raw_values')\n",
    "print(\"BRR MSE:\", mse, sum(mse))"
   ]
  },
  {
   "cell_type": "code",
   "execution_count": 11,
   "metadata": {},
   "outputs": [],
   "source": [
    "def predict_price(inp):\n",
    "    # inp = [0,1,1600,0,3,2,1] 0, (0,1), sft,type,bhk, furnished,distnce\n",
    "    inp = pd.DataFrame([inp])\n",
    "    inp.head()\n",
    "    op = model.predict(inp)\n",
    "\n",
    "    print(op)"
   ]
  },
  {
   "cell_type": "code",
   "execution_count": 12,
   "metadata": {},
   "outputs": [
    {
     "name": "stdout",
     "output_type": "stream",
     "text": [
      "[168.22932265]\n"
     ]
    },
    {
     "name": "stderr",
     "output_type": "stream",
     "text": [
      "C:\\Users\\Pavan\\AppData\\Local\\Programs\\Python\\Python39\\lib\\site-packages\\sklearn\\base.py:450: UserWarning: X does not have valid feature names, but BayesianRidge was fitted with feature names\n",
      "  warnings.warn(\n"
     ]
    }
   ],
   "source": [
    "predict_price([0,1,1600,0,3,2,1])"
   ]
  }
 ],
 "metadata": {
  "interpreter": {
   "hash": "aee8b7b246df8f9039afb4144a1f6fd8d2ca17a180786b69acc140d282b71a49"
  },
  "kernelspec": {
   "display_name": "Python 3.9.9 64-bit",
   "language": "python",
   "name": "python3"
  },
  "language_info": {
   "codemirror_mode": {
    "name": "ipython",
    "version": 3
   },
   "file_extension": ".py",
   "mimetype": "text/x-python",
   "name": "python",
   "nbconvert_exporter": "python",
   "pygments_lexer": "ipython3",
   "version": "3.9.7"
  },
  "orig_nbformat": 4
 },
 "nbformat": 4,
 "nbformat_minor": 2
}
